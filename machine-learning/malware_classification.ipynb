{
 "cells": [
  {
   "attachments": {},
   "cell_type": "markdown",
   "metadata": {},
   "source": [
    "HW-5: Malware Classification (Due 5th January, 2023)\n",
    "Instructions:\n",
    "\n",
    "Suppose your company is struggling with a series of computer virus attacks for the past several months. The viruses were grouped into a few types with some effort. However, it takes a long time to sort out what kind of virus it is when been hit with. Thus, as a senior IT department member, you undertook a project to classify the virus as quickly as possible. You've been given a dataset of the features that may be handy (or not), and also the associated virus type (target variable).\n",
    "\n",
    "You are supposed to try different classification methods and apply best practices we have seen in the lectures such as grid search, cross validation, regularization etc. To increase your grade you can add more elaboration such as using ensembling or exploiting feature selection/extraction techniques. An evaluation rubric is provided.\n",
    "\n",
    "Please prepare a python notebook that describes the steps, present the results as well as your comments.\n",
    "\n",
    "You can download the data (csv file) https://drive.google.com/file/d/1yxbibzUU8bjOyChDVFPfQ4viLduYdk29/view?usp=sharing."
   ]
  },
  {
   "cell_type": "code",
   "execution_count": 23,
   "metadata": {},
   "outputs": [],
   "source": [
    "import pandas as pd\n",
    "import numpy as np\n",
    "import matplotlib.pyplot as plt\n",
    "from sklearn.model_selection import train_test_split\n",
    "from sklearn.linear_model import LinearRegression\n",
    "from sklearn.metrics import mean_squared_error\n",
    "from sklearn.metrics import r2_score\n",
    "from sklearn.preprocessing import PolynomialFeatures\n",
    "from sklearn.linear_model import Ridge\n",
    "from sklearn.feature_selection import chi2\n",
    "from sklearn.feature_selection import mutual_info_classif\n",
    "from sklearn.feature_selection import GenericUnivariateSelect\n",
    "from sklearn.metrics import accuracy_score\n",
    "from sklearn.model_selection import cross_val_score\n",
    "from sklearn.tree import DecisionTreeClassifier\n",
    "from sklearn.pipeline import Pipeline\n",
    "from sklearn.preprocessing import StandardScaler\n",
    "from sklearn.model_selection import GridSearchCV\n",
    "from sklearn.metrics import ConfusionMatrixDisplay\n",
    "from sklearn.pipeline import make_pipeline\n",
    "from matplotlib import pyplot\n",
    "from sklearn.ensemble import BaggingClassifier, RandomForestClassifier, VotingClassifier\n",
    "from sklearn.linear_model import LogisticRegression\n",
    "from sklearn.neighbors import KNeighborsClassifier"
   ]
  },
  {
   "cell_type": "code",
   "execution_count": 24,
   "metadata": {},
   "outputs": [],
   "source": [
    "dataframe = pd.read_csv('malware_classification.csv')"
   ]
  },
  {
   "cell_type": "code",
   "execution_count": 25,
   "metadata": {},
   "outputs": [
    {
     "data": {
      "text/html": [
       "<div>\n",
       "<style scoped>\n",
       "    .dataframe tbody tr th:only-of-type {\n",
       "        vertical-align: middle;\n",
       "    }\n",
       "\n",
       "    .dataframe tbody tr th {\n",
       "        vertical-align: top;\n",
       "    }\n",
       "\n",
       "    .dataframe thead th {\n",
       "        text-align: right;\n",
       "    }\n",
       "</style>\n",
       "<table border=\"1\" class=\"dataframe\">\n",
       "  <thead>\n",
       "    <tr style=\"text-align: right;\">\n",
       "      <th></th>\n",
       "      <th>Virtual</th>\n",
       "      <th>Offset</th>\n",
       "      <th>loc</th>\n",
       "      <th>Import</th>\n",
       "      <th>Imports</th>\n",
       "      <th>var</th>\n",
       "      <th>Forwarder</th>\n",
       "      <th>UINT</th>\n",
       "      <th>LONG</th>\n",
       "      <th>BOOL</th>\n",
       "      <th>...</th>\n",
       "      <th>Img99</th>\n",
       "      <th>Img100</th>\n",
       "      <th>Img101</th>\n",
       "      <th>Img102</th>\n",
       "      <th>Img103</th>\n",
       "      <th>Img104</th>\n",
       "      <th>Img105</th>\n",
       "      <th>Img106</th>\n",
       "      <th>Img107</th>\n",
       "      <th>target</th>\n",
       "    </tr>\n",
       "  </thead>\n",
       "  <tbody>\n",
       "    <tr>\n",
       "      <th>0</th>\n",
       "      <td>3.0</td>\n",
       "      <td>3.0</td>\n",
       "      <td>689.0</td>\n",
       "      <td>18.000000</td>\n",
       "      <td>6.0</td>\n",
       "      <td>890.0</td>\n",
       "      <td>6.000000</td>\n",
       "      <td>39.0</td>\n",
       "      <td>17.000000</td>\n",
       "      <td>88.0</td>\n",
       "      <td>...</td>\n",
       "      <td>-208196.847822</td>\n",
       "      <td>149454.443336</td>\n",
       "      <td>330552.774213</td>\n",
       "      <td>133907.410063</td>\n",
       "      <td>44038.800343</td>\n",
       "      <td>55156.067737</td>\n",
       "      <td>-77588.974897</td>\n",
       "      <td>171979.000000</td>\n",
       "      <td>162674.0</td>\n",
       "      <td>2</td>\n",
       "    </tr>\n",
       "    <tr>\n",
       "      <th>1</th>\n",
       "      <td>3.0</td>\n",
       "      <td>3.0</td>\n",
       "      <td>583.0</td>\n",
       "      <td>15.000000</td>\n",
       "      <td>5.0</td>\n",
       "      <td>1574.0</td>\n",
       "      <td>8640.382774</td>\n",
       "      <td>6.0</td>\n",
       "      <td>7.000000</td>\n",
       "      <td>30.0</td>\n",
       "      <td>...</td>\n",
       "      <td>36209.864030</td>\n",
       "      <td>221318.549792</td>\n",
       "      <td>-1568.194718</td>\n",
       "      <td>22651.037591</td>\n",
       "      <td>-144906.975987</td>\n",
       "      <td>-33489.566102</td>\n",
       "      <td>157701.356695</td>\n",
       "      <td>7702.000000</td>\n",
       "      <td>6551.0</td>\n",
       "      <td>8</td>\n",
       "    </tr>\n",
       "    <tr>\n",
       "      <th>2</th>\n",
       "      <td>3.0</td>\n",
       "      <td>4.0</td>\n",
       "      <td>2796.0</td>\n",
       "      <td>15.000000</td>\n",
       "      <td>5.0</td>\n",
       "      <td>625.0</td>\n",
       "      <td>5.000000</td>\n",
       "      <td>58.0</td>\n",
       "      <td>11.000000</td>\n",
       "      <td>152.0</td>\n",
       "      <td>...</td>\n",
       "      <td>88398.670923</td>\n",
       "      <td>66550.556919</td>\n",
       "      <td>5404.362294</td>\n",
       "      <td>13947.925003</td>\n",
       "      <td>-48559.885445</td>\n",
       "      <td>257023.562444</td>\n",
       "      <td>-204889.973046</td>\n",
       "      <td>151324.169975</td>\n",
       "      <td>12946.0</td>\n",
       "      <td>6</td>\n",
       "    </tr>\n",
       "    <tr>\n",
       "      <th>3</th>\n",
       "      <td>3.0</td>\n",
       "      <td>3.0</td>\n",
       "      <td>373.0</td>\n",
       "      <td>2726.071722</td>\n",
       "      <td>9.0</td>\n",
       "      <td>615.0</td>\n",
       "      <td>9.000000</td>\n",
       "      <td>16.0</td>\n",
       "      <td>98583.277889</td>\n",
       "      <td>34.0</td>\n",
       "      <td>...</td>\n",
       "      <td>-157101.258148</td>\n",
       "      <td>-60336.395075</td>\n",
       "      <td>157629.928962</td>\n",
       "      <td>117458.409503</td>\n",
       "      <td>62076.273381</td>\n",
       "      <td>98733.489947</td>\n",
       "      <td>-51461.636374</td>\n",
       "      <td>122247.000000</td>\n",
       "      <td>98621.0</td>\n",
       "      <td>4</td>\n",
       "    </tr>\n",
       "    <tr>\n",
       "      <th>4</th>\n",
       "      <td>3.0</td>\n",
       "      <td>3.0</td>\n",
       "      <td>77.0</td>\n",
       "      <td>12.000000</td>\n",
       "      <td>4.0</td>\n",
       "      <td>66.0</td>\n",
       "      <td>91945.635853</td>\n",
       "      <td>3.0</td>\n",
       "      <td>0.000000</td>\n",
       "      <td>5.0</td>\n",
       "      <td>...</td>\n",
       "      <td>32595.648968</td>\n",
       "      <td>-228909.737896</td>\n",
       "      <td>-87033.363460</td>\n",
       "      <td>131606.196188</td>\n",
       "      <td>-118625.690367</td>\n",
       "      <td>89326.297602</td>\n",
       "      <td>-84991.427204</td>\n",
       "      <td>15501.000000</td>\n",
       "      <td>11864.0</td>\n",
       "      <td>1</td>\n",
       "    </tr>\n",
       "  </tbody>\n",
       "</table>\n",
       "<p>5 rows × 1805 columns</p>\n",
       "</div>"
      ],
      "text/plain": [
       "   Virtual  Offset     loc       Import  Imports     var     Forwarder  UINT  \\\n",
       "0      3.0     3.0   689.0    18.000000      6.0   890.0      6.000000  39.0   \n",
       "1      3.0     3.0   583.0    15.000000      5.0  1574.0   8640.382774   6.0   \n",
       "2      3.0     4.0  2796.0    15.000000      5.0   625.0      5.000000  58.0   \n",
       "3      3.0     3.0   373.0  2726.071722      9.0   615.0      9.000000  16.0   \n",
       "4      3.0     3.0    77.0    12.000000      4.0    66.0  91945.635853   3.0   \n",
       "\n",
       "           LONG   BOOL  ...          Img99         Img100         Img101  \\\n",
       "0     17.000000   88.0  ... -208196.847822  149454.443336  330552.774213   \n",
       "1      7.000000   30.0  ...   36209.864030  221318.549792   -1568.194718   \n",
       "2     11.000000  152.0  ...   88398.670923   66550.556919    5404.362294   \n",
       "3  98583.277889   34.0  ... -157101.258148  -60336.395075  157629.928962   \n",
       "4      0.000000    5.0  ...   32595.648968 -228909.737896  -87033.363460   \n",
       "\n",
       "          Img102         Img103         Img104         Img105         Img106  \\\n",
       "0  133907.410063   44038.800343   55156.067737  -77588.974897  171979.000000   \n",
       "1   22651.037591 -144906.975987  -33489.566102  157701.356695    7702.000000   \n",
       "2   13947.925003  -48559.885445  257023.562444 -204889.973046  151324.169975   \n",
       "3  117458.409503   62076.273381   98733.489947  -51461.636374  122247.000000   \n",
       "4  131606.196188 -118625.690367   89326.297602  -84991.427204   15501.000000   \n",
       "\n",
       "     Img107  target  \n",
       "0  162674.0       2  \n",
       "1    6551.0       8  \n",
       "2   12946.0       6  \n",
       "3   98621.0       4  \n",
       "4   11864.0       1  \n",
       "\n",
       "[5 rows x 1805 columns]"
      ]
     },
     "execution_count": 25,
     "metadata": {},
     "output_type": "execute_result"
    }
   ],
   "source": [
    "dataframe.head()"
   ]
  },
  {
   "cell_type": "code",
   "execution_count": 26,
   "metadata": {},
   "outputs": [],
   "source": [
    "X = dataframe.drop('target', axis=1)\n",
    "y = dataframe['target']\n",
    "X_train, X_test, y_train, y_test = train_test_split(X, y, test_size=0.2, random_state=22)"
   ]
  },
  {
   "cell_type": "code",
   "execution_count": 27,
   "metadata": {},
   "outputs": [],
   "source": [
    "#lets start with feature selection so that algorithms will run faster(filter method)\n",
    "mf_select = GenericUnivariateSelect(score_func=mutual_info_classif, mode=\"k_best\", param=20)\n",
    "mf_select.fit(X_train, y_train)    #fit to the data\n",
    "\n",
    "X_train = mf_select.transform(X_train)    #transform data to the selected feature space\n",
    "X_test = mf_select.transform(X_test)    #transform data to the selected feature space"
   ]
  },
  {
   "cell_type": "code",
   "execution_count": 28,
   "metadata": {},
   "outputs": [
    {
     "data": {
      "image/png": "[encoded data removed]",
      "text/plain": [
       "<Figure size 640x480 with 1 Axes>"
      ]
     },
     "metadata": {},
     "output_type": "display_data"
    }
   ],
   "source": [
    "#a little manual feature selection to get a little better results, I did with grid search below too\n",
    "mdepths = range(1, 50)\n",
    "scores = np.zeros(len(mdepths))\n",
    "index=0\n",
    "\n",
    "for d in mdepths:\n",
    "    tree_classi = RandomForestClassifier(max_depth=d, min_samples_split=5)\n",
    "    tree_classi.fit(X_train,y_train)\n",
    "    u=tree_classi.score(X_test,y_test)\n",
    "    scores[index]=u\n",
    "    index+=1\n",
    "\n",
    "best_option_randomforest = max(scores)\n",
    "for i in range(len(mdepths)):\n",
    "    if scores[i] == best_option_randomforest:\n",
    "        best_option_randomforest = mdepths[i]\n",
    "        break\n",
    "\n",
    "pyplot.plot(mdepths, scores)\n",
    "pyplot.xlabel('max_depth values')\n",
    "pyplot.ylabel('Score on test set')\n",
    "pyplot.show()"
   ]
  },
  {
   "cell_type": "code",
   "execution_count": 29,
   "metadata": {},
   "outputs": [
    {
     "name": "stdout",
     "output_type": "stream",
     "text": [
      "36\n"
     ]
    }
   ],
   "source": [
    "print(best_option_randomforest)"
   ]
  },
  {
   "cell_type": "code",
   "execution_count": 30,
   "metadata": {},
   "outputs": [
    {
     "data": {
      "image/png": "[encoded data removed]",
      "text/plain": [
       "<Figure size 640x480 with 1 Axes>"
      ]
     },
     "metadata": {},
     "output_type": "display_data"
    }
   ],
   "source": [
    "#a little manual feature selection to get a little better results, I did with grid search below too\n",
    "mdepths = range(1, 50)\n",
    "scores = np.zeros(len(mdepths))\n",
    "index=0\n",
    "\n",
    "for d in mdepths:\n",
    "    tree_classi = BaggingClassifier(DecisionTreeClassifier(max_depth=d, min_samples_split=5))\n",
    "    tree_classi.fit(X_train,y_train)\n",
    "    u=tree_classi.score(X_test,y_test)\n",
    "    scores[index]=u\n",
    "    index+=1\n",
    "\n",
    "best_option_bagging = max(scores)\n",
    "for i in range(len(mdepths)):\n",
    "    if scores[i] == best_option_bagging:\n",
    "        best_option_bagging = mdepths[i]\n",
    "        break\n",
    "\n",
    "pyplot.plot(mdepths, scores)\n",
    "pyplot.xlabel('max_depth values')\n",
    "pyplot.ylabel('Score on test set')\n",
    "pyplot.show()"
   ]
  },
  {
   "cell_type": "code",
   "execution_count": 31,
   "metadata": {},
   "outputs": [
    {
     "name": "stdout",
     "output_type": "stream",
     "text": [
      "40\n"
     ]
    }
   ],
   "source": [
    "print(best_option_bagging)"
   ]
  },
  {
   "cell_type": "code",
   "execution_count": 32,
   "metadata": {},
   "outputs": [
    {
     "name": "stdout",
     "output_type": "stream",
     "text": [
      "Vote(DTx20) score:  0.782\n",
      "Cross validation scores:  [0.77875    0.77875    0.78875    0.78       0.78222778]\n",
      "Vote(LRx20) score:  0.426\n",
      "Cross validation scores:  [0.42875    0.41375    0.40625    0.41125    0.40801001]\n",
      "Vote(NNx20) score:  0.775\n",
      "Cross validation scores:  [0.76875    0.7475     0.75875    0.775      0.76846058]\n",
      "Bag(DTx20) score:  0.874\n",
      "Cross validation scores:  [0.8625    0.8725    0.865     0.8625    0.8660826]\n",
      "Bag(LRx20) score:  0.423\n",
      "Cross validation scores:  [0.43       0.4075     0.40375    0.415      0.40801001]\n",
      "Bag(NNx20) score:  0.764\n",
      "Cross validation scores:  [0.7675    0.755     0.7625    0.7725    0.7747184]\n",
      "Random Forest score:  0.886\n",
      "Cross validation scores:  [0.87625    0.89125    0.87375    0.87625    0.87984981]\n"
     ]
    }
   ],
   "source": [
    "#Lets add some options. \n",
    "#First, lets vote among all 3 model types\n",
    "#ensembling with bagging and random forest.\n",
    "classifiers = []\n",
    "names = []\n",
    "best_scores = []\n",
    "\n",
    "\n",
    "classifiers.append( VotingClassifier([ (str(x), DecisionTreeClassifier() ) for x in range(20) ]) )\n",
    "names.append(\"Vote(DTx20)\")\n",
    "classifiers.append( VotingClassifier([ (str(x), LogisticRegression(solver='liblinear', multi_class='auto') ) for x in range(20)  ]) )\n",
    "names.append(\"Vote(LRx20)\")\n",
    "classifiers.append( VotingClassifier([ (str(x), KNeighborsClassifier() ) for x in range(20) ]) )\n",
    "names.append(\"Vote(NNx20)\")\n",
    "\n",
    "classifiers.append( BaggingClassifier(DecisionTreeClassifier(), n_estimators=best_option_bagging, max_samples=0.6) )\n",
    "names.append(\"Bag(DTx20)\")\n",
    "classifiers.append( BaggingClassifier(LogisticRegression(solver='liblinear', multi_class='auto'), n_estimators=best_option_bagging, max_samples=0.6) )\n",
    "names.append(\"Bag(LRx20)\")\n",
    "classifiers.append( BaggingClassifier(KNeighborsClassifier(), n_estimators=best_option_bagging, max_samples=0.6) )\n",
    "names.append(\"Bag(NNx20)\")\n",
    "\n",
    "classifiers.append(RandomForestClassifier(n_estimators=100))\n",
    "names.append(\"Random Forest\")\n",
    "\n",
    "\n",
    "for model, m_name in zip(classifiers, names):\n",
    "  model.fit(X_train, y_train)\n",
    "  print(m_name,'score: ', accuracy_score(y_test, model.predict(X_test)))\n",
    "  best_scores.append(accuracy_score(y_test, model.predict(X_test)))\n",
    "  scores = cross_val_score(model, X_train, y_train, cv=5)\n",
    "  print('Cross validation scores: ', scores)\n",
    "randomforest = classifiers[6]\n",
    "baggingdecisiontree=classifiers[3]"
   ]
  },
  {
   "attachments": {},
   "cell_type": "markdown",
   "metadata": {},
   "source": [
    "We will check RandomForestClassifier and BaggingClassifier(DecisionTreeClassifier()."
   ]
  },
  {
   "cell_type": "code",
   "execution_count": 34,
   "metadata": {},
   "outputs": [
    {
     "name": "stdout",
     "output_type": "stream",
     "text": [
      "Fitting 3 folds for each of 108 candidates, totalling 324 fits\n",
      "{'classifier__criterion': 'log_loss', 'classifier__max_features': 'log2', 'classifier__min_samples_leaf': 1, 'classifier__min_samples_split': 3}\n",
      "0.8797199299824957\n"
     ]
    }
   ],
   "source": [
    "#hyperparameter search for random forest\n",
    "\n",
    "\n",
    "param_grid = {\n",
    "    'classifier__min_samples_leaf': [1,2,3],\n",
    "    'classifier__min_samples_split': [2,3,4,5],\n",
    "    'classifier__max_features': ['sqrt', 'log2', None],\n",
    "    'classifier__criterion':['gini', 'entropy','log_loss']\n",
    "}\n",
    "\n",
    "pipeline = Pipeline([\n",
    "    ('scaler', StandardScaler()),\n",
    "    ('classifier', randomforest)\n",
    "])\n",
    "\n",
    "\n",
    "grid_search_randomforest= GridSearchCV(estimator = pipeline, param_grid = param_grid, \n",
    "                           cv = 3, n_jobs = -1, verbose = 2)\n",
    "\n",
    "\n",
    "grid_search_randomforest.fit(X_train, y_train)\n",
    "\n",
    "print(grid_search_randomforest.best_params_)\n",
    "print(grid_search_randomforest.best_score_)\n",
    "#I tried too much parameters to get better results but it didn't work very well. "
   ]
  },
  {
   "cell_type": "code",
   "execution_count": 35,
   "metadata": {},
   "outputs": [
    {
     "name": "stdout",
     "output_type": "stream",
     "text": [
      "{'max_features': 0.5, 'max_samples': 1.0, 'n_estimators': 30}\n",
      "0.879\n"
     ]
    }
   ],
   "source": [
    "#hyperparameter search for bagging(decision tree)\n",
    "\n",
    "param_grid = {'n_estimators': [10, 20, 30],\n",
    "              'max_samples': [0.5, 0.7, 1.0],\n",
    "              'max_features': [0.5, 0.7, 1.0]}\n",
    "\n",
    "grid_search = GridSearchCV(estimator=baggingdecisiontree, param_grid=param_grid, cv=5)\n",
    "\n",
    "grid_search.fit(X_train, y_train)\n",
    "\n",
    "print(grid_search.best_params_)\n",
    "\n",
    "test_score = grid_search.score(X_test, y_test)\n",
    "\n",
    "print(test_score)\n",
    "#tuning seems to be working well."
   ]
  }
 ],
 "metadata": {
  "kernelspec": {
   "display_name": "Python 3",
   "language": "python",
   "name": "python3"
  },
  "language_info": {
   "codemirror_mode": {
    "name": "ipython",
    "version": 3
   },
   "file_extension": ".py",
   "mimetype": "text/x-python",
   "name": "python",
   "nbconvert_exporter": "python",
   "pygments_lexer": "ipython3",
   "version": "3.10.0"
  },
  "orig_nbformat": 4,
  "vscode": {
   "interpreter": {
    "hash": "8821d4814fb99eb1773a38f5de176a871378f24c971c3c050c047356b6ce8e67"
   }
  }
 },
 "nbformat": 4,
 "nbformat_minor": 2
}
